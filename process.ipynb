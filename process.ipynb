{
 "cells": [
  {
   "cell_type": "code",
   "execution_count": 1,
   "metadata": {},
   "outputs": [],
   "source": [
    "import os\n",
    "import glob\n",
    "import shutil\n",
    "\n",
    "def copy_files(src_dir, dest_dir):\n",
    "    # 找到所有的 txt 文件\n",
    "    txt_files = glob.glob(os.path.join(src_dir, '**/*.txt'), recursive=True)\n",
    "\n",
    "    # 复制文件\n",
    "    for file in txt_files:\n",
    "        sub_dir = os.path.relpath(os.path.dirname(file), src_dir)\n",
    "        dest_sub_dir = os.path.join(dest_dir, sub_dir)\n",
    "        if os.path.exists(dest_sub_dir):\n",
    "            shutil.copy(file, dest_sub_dir)\n",
    "\n",
    "# 调用函数\n",
    "copy_files('/home/ydoit/AIGC/Raw-EN/txt', '/home/ydoit/AIGC/Raw-EN/wav48_silence_trimmed')"
   ]
  }
 ],
 "metadata": {
  "kernelspec": {
   "display_name": "Python 3",
   "language": "python",
   "name": "python3"
  },
  "language_info": {
   "codemirror_mode": {
    "name": "ipython",
    "version": 3
   },
   "file_extension": ".py",
   "mimetype": "text/x-python",
   "name": "python",
   "nbconvert_exporter": "python",
   "pygments_lexer": "ipython3",
   "version": "3.10.12"
  }
 },
 "nbformat": 4,
 "nbformat_minor": 2
}
